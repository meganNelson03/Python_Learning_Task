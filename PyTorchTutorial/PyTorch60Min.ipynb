{
 "cells": [
  {
   "cell_type": "code",
   "execution_count": 2,
   "metadata": {},
   "outputs": [
    {
     "name": "stdout",
     "output_type": "stream",
     "text": [
      "tensor([[ 0.0000e+00, -1.0842e-19,  0.0000e+00],\n",
      "        [-1.0842e-19,  1.4569e-19,  2.7517e+12],\n",
      "        [ 7.5338e+28,  3.0313e+32,  6.3828e+28],\n",
      "        [ 1.4603e-19,  1.0899e+27,  6.8943e+34],\n",
      "        [ 1.1835e+22,  7.0976e+22,  1.8515e+28]])\n"
     ]
    }
   ],
   "source": [
    "# PyTorch: replacement for NumPy, deep learning platform\n",
    "\n",
    "# Tensors\n",
    "# similar to ndarrays, Tensors can be used on a GPU\n",
    "# tensors are 'generalized' matrices, whereas matrices\n",
    "# are 2D constructs, tensors can be 0d, 3d, etc\n",
    "\n",
    "from __future__ import print_function\n",
    "import torch\n",
    "\n",
    "# construct 5x3 matrix\n",
    "x = torch.empty(5, 3)\n",
    "print(x)"
   ]
  },
  {
   "cell_type": "code",
   "execution_count": 3,
   "metadata": {},
   "outputs": [
    {
     "name": "stdout",
     "output_type": "stream",
     "text": [
      "tensor([[0.2569, 0.2591, 0.4653],\n",
      "        [0.4692, 0.9818, 0.0423],\n",
      "        [0.4468, 0.3776, 0.2474],\n",
      "        [0.8321, 0.9620, 0.0350],\n",
      "        [0.5335, 0.6356, 0.1639]])\n"
     ]
    }
   ],
   "source": [
    "# construct randomly init matrix\n",
    "x = torch.rand(5, 3)\n",
    "print(x)"
   ]
  },
  {
   "cell_type": "code",
   "execution_count": 4,
   "metadata": {},
   "outputs": [
    {
     "name": "stdout",
     "output_type": "stream",
     "text": [
      "tensor([[0, 0, 0],\n",
      "        [0, 0, 0],\n",
      "        [0, 0, 0],\n",
      "        [0, 0, 0],\n",
      "        [0, 0, 0]])\n"
     ]
    }
   ],
   "source": [
    "# matrix filled with zeros of dtype long\n",
    "x = torch.zeros(5, 3, dtype=torch.long)\n",
    "print(x)"
   ]
  },
  {
   "cell_type": "code",
   "execution_count": 5,
   "metadata": {},
   "outputs": [
    {
     "name": "stdout",
     "output_type": "stream",
     "text": [
      "tensor([5.5000, 3.0000])\n"
     ]
    }
   ],
   "source": [
    "# construct a tensor directly from data\n",
    "x = torch.tensor([5.5, 3])\n",
    "print(x)"
   ]
  },
  {
   "cell_type": "code",
   "execution_count": 6,
   "metadata": {},
   "outputs": [
    {
     "name": "stdout",
     "output_type": "stream",
     "text": [
      "tensor([[1., 1., 1.],\n",
      "        [1., 1., 1.],\n",
      "        [1., 1., 1.],\n",
      "        [1., 1., 1.],\n",
      "        [1., 1., 1.]], dtype=torch.float64)\n",
      "tensor([[ 0.3498, -1.0623,  0.6595],\n",
      "        [-1.1913,  1.8088, -0.9358],\n",
      "        [-0.5297, -0.1256,  1.2292],\n",
      "        [-1.9324,  1.6949, -1.4049],\n",
      "        [-1.8294, -1.7679, -0.9598]])\n"
     ]
    }
   ],
   "source": [
    "# create a tensor based on an existing tensor\n",
    "# these methods reuse properties from input tensor\n",
    "# unless new values are provided\n",
    "x = x.new_ones(5, 3, dtype=torch.double) #new_* takes size\n",
    "print(x)\n",
    "\n",
    "x = torch.randn_like(x, dtype=torch.float) # override dtpye\n",
    "print(x)"
   ]
  },
  {
   "cell_type": "code",
   "execution_count": 7,
   "metadata": {},
   "outputs": [
    {
     "name": "stdout",
     "output_type": "stream",
     "text": [
      "torch.Size([5, 3])\n"
     ]
    }
   ],
   "source": [
    "print(x.size()) #get its size (torch.Size is a tuple)"
   ]
  },
  {
   "cell_type": "code",
   "execution_count": 8,
   "metadata": {},
   "outputs": [
    {
     "name": "stdout",
     "output_type": "stream",
     "text": [
      "tensor([[ 0.8354, -0.8999,  1.6123],\n",
      "        [-0.2731,  1.9293, -0.8929],\n",
      "        [ 0.2396,  0.3262,  2.2153],\n",
      "        [-0.9359,  2.2307, -1.2511],\n",
      "        [-1.3797, -1.1937, -0.4320]])\n"
     ]
    }
   ],
   "source": [
    "# OPERATIONS\n",
    "y = torch.rand(5,3)\n",
    "print(x+y)   # addition syntax 1"
   ]
  },
  {
   "cell_type": "code",
   "execution_count": 9,
   "metadata": {},
   "outputs": [
    {
     "name": "stdout",
     "output_type": "stream",
     "text": [
      "tensor([[ 0.8354, -0.8999,  1.6123],\n",
      "        [-0.2731,  1.9293, -0.8929],\n",
      "        [ 0.2396,  0.3262,  2.2153],\n",
      "        [-0.9359,  2.2307, -1.2511],\n",
      "        [-1.3797, -1.1937, -0.4320]])\n"
     ]
    }
   ],
   "source": [
    "print(torch.add(x, y)) # addition syntax 2"
   ]
  },
  {
   "cell_type": "code",
   "execution_count": 10,
   "metadata": {},
   "outputs": [
    {
     "name": "stdout",
     "output_type": "stream",
     "text": [
      "tensor([[ 0.8354, -0.8999,  1.6123],\n",
      "        [-0.2731,  1.9293, -0.8929],\n",
      "        [ 0.2396,  0.3262,  2.2153],\n",
      "        [-0.9359,  2.2307, -1.2511],\n",
      "        [-1.3797, -1.1937, -0.4320]])\n"
     ]
    }
   ],
   "source": [
    "result = torch.empty(5,3)\n",
    "torch.add(x, y, out=result) #provide output tensor as arg\n",
    "print(result)"
   ]
  },
  {
   "cell_type": "code",
   "execution_count": 11,
   "metadata": {},
   "outputs": [
    {
     "name": "stdout",
     "output_type": "stream",
     "text": [
      "tensor([[ 0.8354, -0.8999,  1.6123],\n",
      "        [-0.2731,  1.9293, -0.8929],\n",
      "        [ 0.2396,  0.3262,  2.2153],\n",
      "        [-0.9359,  2.2307, -1.2511],\n",
      "        [-1.3797, -1.1937, -0.4320]])\n"
     ]
    }
   ],
   "source": [
    "# addition in place (adds x to y)\n",
    "y.add_(x)  # postfixed with _, changes y not x\n",
    "print(y)"
   ]
  },
  {
   "cell_type": "code",
   "execution_count": 12,
   "metadata": {},
   "outputs": [
    {
     "name": "stdout",
     "output_type": "stream",
     "text": [
      "tensor([-1.0623,  1.8088, -0.1256,  1.6949, -1.7679])\n"
     ]
    }
   ],
   "source": [
    "print(x[:, 1])"
   ]
  },
  {
   "cell_type": "code",
   "execution_count": 13,
   "metadata": {},
   "outputs": [
    {
     "name": "stdout",
     "output_type": "stream",
     "text": [
      "torch.Size([4, 4]) torch.Size([16]) torch.Size([2, 8])\n"
     ]
    }
   ],
   "source": [
    "# reshape/resize tensor, use torch.view\n",
    "x = torch.randn(4,4)\n",
    "y = x.view(16)\n",
    "z = x.view(-1, 8) # size -1 inferred from other dimensions\n",
    "print(x.size(), y.size(), z.size())"
   ]
  },
  {
   "cell_type": "code",
   "execution_count": 14,
   "metadata": {},
   "outputs": [
    {
     "name": "stdout",
     "output_type": "stream",
     "text": [
      "tensor([0.7313])\n",
      "0.7312920689582825\n"
     ]
    }
   ],
   "source": [
    "# for one elmnt tensor, use .item() to get val as num\n",
    "x = torch.randn(1)\n",
    "print(x)\n",
    "print(x.item())"
   ]
  },
  {
   "cell_type": "code",
   "execution_count": 15,
   "metadata": {},
   "outputs": [
    {
     "name": "stdout",
     "output_type": "stream",
     "text": [
      "tensor([1., 1., 1., 1., 1.])\n"
     ]
    }
   ],
   "source": [
    "# NUMPY BRIDGE\n",
    "# convert a torch tensor to numpy array and vice versa\n",
    "a = torch.ones(5)\n",
    "print(a)"
   ]
  },
  {
   "cell_type": "code",
   "execution_count": 16,
   "metadata": {},
   "outputs": [
    {
     "name": "stdout",
     "output_type": "stream",
     "text": [
      "[1. 1. 1. 1. 1.]\n"
     ]
    }
   ],
   "source": [
    "b = a.numpy()\n",
    "print(b)"
   ]
  },
  {
   "cell_type": "code",
   "execution_count": 17,
   "metadata": {},
   "outputs": [
    {
     "name": "stdout",
     "output_type": "stream",
     "text": [
      "tensor([2., 2., 2., 2., 2.])\n",
      "[2. 2. 2. 2. 2.]\n"
     ]
    }
   ],
   "source": [
    "# see how numpy array changed in value\n",
    "a.add_(1)\n",
    "print(a)\n",
    "print(b)"
   ]
  },
  {
   "cell_type": "code",
   "execution_count": 18,
   "metadata": {},
   "outputs": [
    {
     "name": "stdout",
     "output_type": "stream",
     "text": [
      "[2. 2. 2. 2. 2.]\n",
      "tensor([2., 2., 2., 2., 2.], dtype=torch.float64)\n"
     ]
    }
   ],
   "source": [
    "# CONVERT NUMPY ARRAY TO TORCH TENSOR\n",
    "import numpy as np\n",
    "a = np.ones(5)\n",
    "b = torch.from_numpy(a)\n",
    "np.add(a, 1, out=a)\n",
    "print(a)  # changing the np array changed the tensor automatically\n",
    "print(b)"
   ]
  },
  {
   "cell_type": "code",
   "execution_count": 20,
   "metadata": {},
   "outputs": [],
   "source": [
    "# CUDA TENSORS\n",
    "# tensors can be moved by using the .to method\n",
    "if torch.cuda.is_available():\n",
    "    device = torch.device(\"cuda\")\n",
    "    y = torch.ones_like(x, device=device)\n",
    "    x = x.to(device)\n",
    "    z = x + y\n",
    "    print(z)\n",
    "    print(z.to(\"cpu\", torch.double)) # .to can also change dtype"
   ]
  },
  {
   "cell_type": "code",
   "execution_count": 21,
   "metadata": {},
   "outputs": [
    {
     "name": "stdout",
     "output_type": "stream",
     "text": [
      "tensor([[1., 1.],\n",
      "        [1., 1.]], requires_grad=True)\n"
     ]
    }
   ],
   "source": [
    "# PART 2 OF THE TUTORIAL\n",
    "# AUTOGRAD: AUTOMATIC DIFFERENTIATION\n",
    "# used for neural networds, autograd provides automatic\n",
    "# differentiation for all ops on tensors\n",
    "\n",
    "#TENSOR\n",
    "# torch.Tensor is the central package\n",
    "# .backward() : have all gradients computed , computes derivatives\n",
    "#    if tensor is a scalar, don't need to specify args - if it has \n",
    "#    more than one element, you need to specify a gradient arg \n",
    "#    that has a matching tensor shape\n",
    "# .grad : accumulates gradient from the tensor\n",
    "# .detach() : detach a tensor from computation history,\n",
    "#    prevents future computation from being tracked\n",
    "# ** can also wrap a code block in 'with torch.no_grad()' to prevent\n",
    "#    tracking history \n",
    "\n",
    "# Tensor and Function : interconnected acyclic graph, encodes history\n",
    "# of computation, each tensor has a .grad_fun attrib that references\n",
    "# a function that has created the Tensor\n",
    "\n",
    "import torch\n",
    "\n",
    "# create a tensor and set requires_grad=True to track it\n",
    "x = torch.ones(2, 2, requires_grad=True)\n",
    "print(x)"
   ]
  },
  {
   "cell_type": "code",
   "execution_count": 22,
   "metadata": {},
   "outputs": [
    {
     "name": "stdout",
     "output_type": "stream",
     "text": [
      "tensor([[3., 3.],\n",
      "        [3., 3.]], grad_fn=<AddBackward0>)\n"
     ]
    }
   ],
   "source": [
    "# operation of tensor\n",
    "y = x + 2\n",
    "print(y)"
   ]
  },
  {
   "cell_type": "code",
   "execution_count": 23,
   "metadata": {},
   "outputs": [
    {
     "name": "stdout",
     "output_type": "stream",
     "text": [
      "<AddBackward0 object at 0x1102eba58>\n"
     ]
    }
   ],
   "source": [
    "# y created as a result of an op, so it has a grad_fn\n",
    "print(y.grad_fn)"
   ]
  },
  {
   "cell_type": "code",
   "execution_count": 24,
   "metadata": {},
   "outputs": [
    {
     "name": "stdout",
     "output_type": "stream",
     "text": [
      "tensor([[27., 27.],\n",
      "        [27., 27.]], grad_fn=<MulBackward0>) tensor(27., grad_fn=<MeanBackward1>)\n"
     ]
    }
   ],
   "source": [
    "z = y * y * 3\n",
    "out = z.mean()\n",
    "print(z, out)"
   ]
  },
  {
   "cell_type": "code",
   "execution_count": 27,
   "metadata": {},
   "outputs": [
    {
     "name": "stdout",
     "output_type": "stream",
     "text": [
      "False\n",
      "True\n",
      "tensor(515.7458, grad_fn=<SumBackward0>)\n",
      "<SumBackward0 object at 0x107cdf668>\n"
     ]
    }
   ],
   "source": [
    "a = torch.randn(2, 2)\n",
    "a = ((a*3) / (a-1))\n",
    "print(a.requires_grad)\n",
    "a.requires_grad_(True)\n",
    "print(a.requires_grad)\n",
    "b = (a * a).sum()\n",
    "print(b)\n",
    "print(b.grad_fn)"
   ]
  },
  {
   "cell_type": "code",
   "execution_count": 28,
   "metadata": {},
   "outputs": [
    {
     "name": "stdout",
     "output_type": "stream",
     "text": [
      "tensor([[4.5000, 4.5000],\n",
      "        [4.5000, 4.5000]])\n"
     ]
    }
   ],
   "source": [
    "# GRADIENTS\n",
    "# backprop because out contains single scalar\n",
    "\n",
    "out.backward() #equivalent to out.backward(torch.tensor(1))\n",
    "#print grads d(out)/dx\n",
    "print(x.grad)"
   ]
  },
  {
   "cell_type": "code",
   "execution_count": 30,
   "metadata": {},
   "outputs": [
    {
     "name": "stdout",
     "output_type": "stream",
     "text": [
      "tensor([ 0.8015,  0.0495, -1.1250], requires_grad=True)\n",
      "tensor([  820.7128,    50.7310, -1152.0066], grad_fn=<MulBackward0>)\n"
     ]
    }
   ],
   "source": [
    "x = torch.randn(3, requires_grad=True)\n",
    "\n",
    "y= x*2\n",
    "while y.data.norm() < 1000:\n",
    "    y = y * 2\n",
    "    \n",
    "print(y)"
   ]
  },
  {
   "cell_type": "code",
   "execution_count": 31,
   "metadata": {},
   "outputs": [
    {
     "name": "stdout",
     "output_type": "stream",
     "text": [
      "tensor([1.0240e+02, 1.0240e+03, 1.0240e-01])\n"
     ]
    }
   ],
   "source": [
    "gradients = torch.tensor([0.1, 1.0, 0.0001], dtype=torch.float)\n",
    "y.backward(gradients)\n",
    "print(x.grad)"
   ]
  },
  {
   "cell_type": "code",
   "execution_count": 32,
   "metadata": {},
   "outputs": [
    {
     "name": "stdout",
     "output_type": "stream",
     "text": [
      "True\n",
      "True\n",
      "False\n"
     ]
    }
   ],
   "source": [
    "# stop autograd from tracking history\n",
    "\n",
    "print(x.requires_grad)\n",
    "print((x ** 2).requires_grad)\n",
    "\n",
    "with torch.no_grad():\n",
    "    print((x**2).requires_grad)"
   ]
  },
  {
   "cell_type": "code",
   "execution_count": null,
   "metadata": {},
   "outputs": [],
   "source": []
  }
 ],
 "metadata": {
  "kernelspec": {
   "display_name": "Python 3",
   "language": "python",
   "name": "python3"
  },
  "language_info": {
   "codemirror_mode": {
    "name": "ipython",
    "version": 3
   },
   "file_extension": ".py",
   "mimetype": "text/x-python",
   "name": "python",
   "nbconvert_exporter": "python",
   "pygments_lexer": "ipython3",
   "version": "3.7.0"
  }
 },
 "nbformat": 4,
 "nbformat_minor": 2
}
